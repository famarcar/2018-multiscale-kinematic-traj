{
 "cells": [
  {
   "cell_type": "markdown",
   "metadata": {},
   "source": [
    "## Global Experiments (Features (F) - Scales (S))\n",
    "   - Exp1: 3F-3S\n",
    "   - Exp2: 3F-2S\n",
    "   - Exp3: 3F-1S\n",
    "   - Exp4: 3F-5S\n",
    "   - Exp5: 2F-3S\n",
    "   - Exp6: 1F-3S\n",
    "   - Exp7: 11F(all)-3S "
   ]
  },
  {
   "cell_type": "code",
   "execution_count": 16,
   "metadata": {},
   "outputs": [],
   "source": [
    "import pandas as pd\n",
    "import matplotlib.pyplot as plt\n",
    "import numpy as np"
   ]
  },
  {
   "cell_type": "code",
   "execution_count": 17,
   "metadata": {},
   "outputs": [
    {
     "name": "stdout",
     "output_type": "stream",
     "text": [
      "Global_Results.csv  partial.pdf\t\t  Results-2Jun.ipynb\r\n",
      "Global_Results.ods  Resultados_exp.ipynb\r\n"
     ]
    }
   ],
   "source": [
    "! ls"
   ]
  },
  {
   "cell_type": "code",
   "execution_count": 18,
   "metadata": {},
   "outputs": [
    {
     "data": {
      "text/html": [
       "<div>\n",
       "<style scoped>\n",
       "    .dataframe tbody tr th:only-of-type {\n",
       "        vertical-align: middle;\n",
       "    }\n",
       "\n",
       "    .dataframe tbody tr th {\n",
       "        vertical-align: top;\n",
       "    }\n",
       "\n",
       "    .dataframe thead th {\n",
       "        text-align: right;\n",
       "    }\n",
       "</style>\n",
       "<table border=\"1\" class=\"dataframe\">\n",
       "  <thead>\n",
       "    <tr style=\"text-align: right;\">\n",
       "      <th></th>\n",
       "      <th>Percentaje</th>\n",
       "      <th>Exp 1</th>\n",
       "      <th>Exp 2</th>\n",
       "      <th>Exp 3</th>\n",
       "      <th>Exp 4</th>\n",
       "      <th>Exp 5</th>\n",
       "      <th>Exp 6</th>\n",
       "      <th>Exp 7</th>\n",
       "    </tr>\n",
       "  </thead>\n",
       "  <tbody>\n",
       "    <tr>\n",
       "      <th>count</th>\n",
       "      <td>10.000000</td>\n",
       "      <td>10.00000</td>\n",
       "      <td>10.00000</td>\n",
       "      <td>10.00000</td>\n",
       "      <td>10.00000</td>\n",
       "      <td>10.00000</td>\n",
       "      <td>10.00000</td>\n",
       "      <td>10.00000</td>\n",
       "    </tr>\n",
       "    <tr>\n",
       "      <th>mean</th>\n",
       "      <td>54.000000</td>\n",
       "      <td>5.50000</td>\n",
       "      <td>6.50000</td>\n",
       "      <td>7.50000</td>\n",
       "      <td>8.50000</td>\n",
       "      <td>9.50000</td>\n",
       "      <td>10.50000</td>\n",
       "      <td>11.50000</td>\n",
       "    </tr>\n",
       "    <tr>\n",
       "      <th>std</th>\n",
       "      <td>30.983867</td>\n",
       "      <td>3.02765</td>\n",
       "      <td>3.02765</td>\n",
       "      <td>3.02765</td>\n",
       "      <td>3.02765</td>\n",
       "      <td>3.02765</td>\n",
       "      <td>3.02765</td>\n",
       "      <td>3.02765</td>\n",
       "    </tr>\n",
       "    <tr>\n",
       "      <th>min</th>\n",
       "      <td>10.000000</td>\n",
       "      <td>1.00000</td>\n",
       "      <td>2.00000</td>\n",
       "      <td>3.00000</td>\n",
       "      <td>4.00000</td>\n",
       "      <td>5.00000</td>\n",
       "      <td>6.00000</td>\n",
       "      <td>7.00000</td>\n",
       "    </tr>\n",
       "    <tr>\n",
       "      <th>25%</th>\n",
       "      <td>30.000000</td>\n",
       "      <td>3.25000</td>\n",
       "      <td>4.25000</td>\n",
       "      <td>5.25000</td>\n",
       "      <td>6.25000</td>\n",
       "      <td>7.25000</td>\n",
       "      <td>8.25000</td>\n",
       "      <td>9.25000</td>\n",
       "    </tr>\n",
       "    <tr>\n",
       "      <th>50%</th>\n",
       "      <td>55.000000</td>\n",
       "      <td>5.50000</td>\n",
       "      <td>6.50000</td>\n",
       "      <td>7.50000</td>\n",
       "      <td>8.50000</td>\n",
       "      <td>9.50000</td>\n",
       "      <td>10.50000</td>\n",
       "      <td>11.50000</td>\n",
       "    </tr>\n",
       "    <tr>\n",
       "      <th>75%</th>\n",
       "      <td>77.500000</td>\n",
       "      <td>7.75000</td>\n",
       "      <td>8.75000</td>\n",
       "      <td>9.75000</td>\n",
       "      <td>10.75000</td>\n",
       "      <td>11.75000</td>\n",
       "      <td>12.75000</td>\n",
       "      <td>13.75000</td>\n",
       "    </tr>\n",
       "    <tr>\n",
       "      <th>max</th>\n",
       "      <td>100.000000</td>\n",
       "      <td>10.00000</td>\n",
       "      <td>11.00000</td>\n",
       "      <td>12.00000</td>\n",
       "      <td>13.00000</td>\n",
       "      <td>14.00000</td>\n",
       "      <td>15.00000</td>\n",
       "      <td>16.00000</td>\n",
       "    </tr>\n",
       "  </tbody>\n",
       "</table>\n",
       "</div>"
      ],
      "text/plain": [
       "       Percentaje     Exp 1     Exp 2     Exp 3     Exp 4     Exp 5     Exp 6  \\\n",
       "count   10.000000  10.00000  10.00000  10.00000  10.00000  10.00000  10.00000   \n",
       "mean    54.000000   5.50000   6.50000   7.50000   8.50000   9.50000  10.50000   \n",
       "std     30.983867   3.02765   3.02765   3.02765   3.02765   3.02765   3.02765   \n",
       "min     10.000000   1.00000   2.00000   3.00000   4.00000   5.00000   6.00000   \n",
       "25%     30.000000   3.25000   4.25000   5.25000   6.25000   7.25000   8.25000   \n",
       "50%     55.000000   5.50000   6.50000   7.50000   8.50000   9.50000  10.50000   \n",
       "75%     77.500000   7.75000   8.75000   9.75000  10.75000  11.75000  12.75000   \n",
       "max    100.000000  10.00000  11.00000  12.00000  13.00000  14.00000  15.00000   \n",
       "\n",
       "          Exp 7  \n",
       "count  10.00000  \n",
       "mean   11.50000  \n",
       "std     3.02765  \n",
       "min     7.00000  \n",
       "25%     9.25000  \n",
       "50%    11.50000  \n",
       "75%    13.75000  \n",
       "max    16.00000  "
      ]
     },
     "execution_count": 18,
     "metadata": {},
     "output_type": "execute_result"
    }
   ],
   "source": [
    "results_dataframe = pd.read_csv(\"Global_Results.csv\" ,sep=\",\")\n",
    "results_dataframe.describe()"
   ]
  },
  {
   "cell_type": "code",
   "execution_count": 23,
   "metadata": {},
   "outputs": [
    {
     "data": {
      "image/png": "[encoded data removed]",
      "text/plain": [
       "<Figure size 432x288 with 1 Axes>"
      ]
     },
     "metadata": {},
     "output_type": "display_data"
    }
   ],
   "source": [
    "plt.plot(results_dataframe['Percentaje'],results_dataframe['Exp 3'], '<', color=\"blue\", linewidth=1.0, linestyle=\"-\", label=\"Acc all activities \")\n",
    "plt.legend(loc='upper left')\n",
    "plt.xlabel('% Percentaje of video')\n",
    "plt.ylabel('Accuracy')\n",
    "plt.title('Partial video recognition in KTH')\n",
    "plt.savefig('partial.pdf')"
   ]
  },
  {
   "cell_type": "markdown",
   "metadata": {},
   "source": [
    "## To read results and take the percentajes per class"
   ]
  },
  {
   "cell_type": "code",
   "execution_count": null,
   "metadata": {},
   "outputs": [],
   "source": [
    "    A=set(pd.read_csv(\"c1.csv\", index_col=False, header=None)[0]) #reads the csv, takes only the first column and creates a set out of it.\n",
    "    B=set(pd.read_csv(\"c2.csv\", index_col=False, header=None)[0]) #same here\n",
    "    print(A-B) #set A - set B gives back everything thats only in A.\n",
    "    print(B-A)"
   ]
  }
 ],
 "metadata": {
  "kernelspec": {
   "display_name": "Python 2",
   "language": "python",
   "name": "python2"
  },
  "language_info": {
   "codemirror_mode": {
    "name": "ipython",
    "version": 2
   },
   "file_extension": ".py",
   "mimetype": "text/x-python",
   "name": "python",
   "nbconvert_exporter": "python",
   "pygments_lexer": "ipython2",
   "version": "2.7.6"
  }
 },
 "nbformat": 4,
 "nbformat_minor": 2
}
