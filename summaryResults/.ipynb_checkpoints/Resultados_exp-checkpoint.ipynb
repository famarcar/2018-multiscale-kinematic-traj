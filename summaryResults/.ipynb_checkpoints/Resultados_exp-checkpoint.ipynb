{
 "cells": [
  {
   "cell_type": "markdown",
   "metadata": {},
   "source": [
    "<h1> <center> Resultados Experimentos </center> </h1>"
   ]
  },
  {
   "cell_type": "markdown",
   "metadata": {},
   "source": [
    "<p> <b> Experimento 1:</b> Se varian 2 parámetros (theta, curvatura) </p>\n",
    "<br> \n",
    "<table> \n",
    "    <tr> \n",
    "        <th> <center> Parameters </center> </th>\n",
    "        <th colspan=\"2\" > <center> Accuracy </center> </th>\n",
    "        <th colspan=\"2\" ><center> Accuracy VTN </center> </th> \n",
    "    </tr>\n",
    "    <tr> \n",
    "        <center> \n",
    "        <td> 10 </td> \n",
    "        <td> 17.8447 </td>\n",
    "        <td> 154/863 </td>\n",
    "        <td> 17.8447 </td>\n",
    "        <td> 154/863 </td>\n",
    "        </center>\n",
    "    </tr>\n",
    "    <tr> \n",
    "        <center> \n",
    "        <td> 20 </td> \n",
    "        <td> 58.0533 </td>\n",
    "        <td> 501/863 </td>\n",
    "        <td> 58.0533 </td>\n",
    "        <td> 501/863 </td>\n",
    "        </center>\n",
    "    </tr>\n",
    "    <tr> \n",
    "        <center> \n",
    "        <td> 30 </td> \n",
    "        <td> 67.6709 </td>\n",
    "        <td> 584/863 </td>\n",
    "        <td> 67.4392 </td>\n",
    "        <td> 582/863 </td>\n",
    "        </center>\n",
    "    </tr>\n",
    "    <tr> \n",
    "        <center> \n",
    "        <td> 40 </td> \n",
    "        <td> 76.1298 </td>\n",
    "        <td> 657/863 </td>\n",
    "        <td> 76.1298 </td>\n",
    "        <td> 657/863 </td>\n",
    "        </center>\n",
    "    </tr>\n",
    "    <tr> \n",
    "        <center> \n",
    "        <td> 50 </td> \n",
    "        <td> 82.5029 </td>\n",
    "        <td> 712/863 </td>\n",
    "        <td> 82.5029 </td>\n",
    "        <td> 712/863 </td>\n",
    "        </center>\n",
    "    </tr>\n",
    "    <tr> \n",
    "        <center> \n",
    "        <td> 60 </td> \n",
    "        <td> 85.5156 </td>\n",
    "        <td> 738/863 </td>\n",
    "        <td> 85.5156 </td>\n",
    "        <td> 738/863 </td>\n",
    "        </center>\n",
    "    </tr>\n",
    "    <tr> \n",
    "        <center> \n",
    "        <td> 70 </td> \n",
    "        <td> 87.2538 </td>\n",
    "        <td> 753/863 </td>\n",
    "        <td> 87.2538 </td>\n",
    "        <td> 753/863 </td>\n",
    "        </center>\n",
    "    </tr>\n",
    "    <tr> \n",
    "        <center> \n",
    "        <td> 80 </td> \n",
    "        <td> 89.2236 </td>\n",
    "        <td> 770/863 </td>\n",
    "        <td> 89.3395 </td>\n",
    "        <td> 771/863 </td>\n",
    "        </center>\n",
    "    </tr>\n",
    "    <tr> \n",
    "        <center> \n",
    "        <td> 90 </td> \n",
    "        <td> 89.803 </td>\n",
    "        <td> 775/863 </td>\n",
    "        <td> 89.803 </td>\n",
    "        <td> 775/863 </td>\n",
    "        </center>\n",
    "    </tr>\n",
    "    <tr> \n",
    "        <center> \n",
    "        <td> 100 </td> \n",
    "        <td> 89.803 </td>\n",
    "        <td> 775/863 </td>\n",
    "        <td> 89.803 </td>\n",
    "        <td> 775/863 </td>\n",
    "        </center>\n",
    "    </tr>\n",
    "    <tr> \n",
    "        <center> \n",
    "        <td> 110 </td> \n",
    "        <td> 90.4983 </td>\n",
    "        <td> 781/863 </td>\n",
    "        <td> 90.4983 </td>\n",
    "        <td> 781/863 </td>\n",
    "        </center>\n",
    "    </tr>\n",
    "</table>\n"
   ]
  },
  {
   "cell_type": "code",
   "execution_count": 15,
   "metadata": {},
   "outputs": [
    {
     "data": {
      "text/plain": [
       "Text(0.5,1,'Experimento 1')"
      ]
     },
     "execution_count": 15,
     "metadata": {},
     "output_type": "execute_result"
    },
    {
     "data": {
      "image/png": "[encoded data removed]",
      "text/plain": [
       "<Figure size 432x288 with 1 Axes>"
      ]
     },
     "metadata": {},
     "output_type": "display_data"
    }
   ],
   "source": [
    "import matplotlib.pyplot as plt\n",
    "import numpy as np\n",
    "\n",
    "# Datos\n",
    "x = np.array([10, 20, 30, 40, 50, 60, 70, 80, 90, 100])\n",
    "y1_1 = np.array([17.8447, 58.0533, 67.6709, 76.1298, 85.5029, 85.5156, 87.2538, 89.2236, 89.803, 90.4983])\n",
    "y2 = np.array([17.8447, 58.0533, 67.4392, 76.1298, 85.5029, 85.5156, 87.2538, 89.3395, 89.803,  90.4983])\n",
    "\n",
    "# Gráfica\n",
    "plt.plot(x,y1_1, '<', color=\"blue\", linewidth=1.0, linestyle=\"-\", label=\"Accuracy\")\n",
    "plt.plot(x,y2, 'o', color=\"green\", linewidth=1.0, linestyle=\"-.\", label=\"Accuracy VTN\")\n",
    "plt.legend(loc='upper left')\n",
    "plt.xlabel('Parameters')\n",
    "plt.ylabel('Accuracy')\n",
    "plt.title('Experimento 1')"
   ]
  },
  {
   "cell_type": "markdown",
   "metadata": {},
   "source": [
    "<p> <b> Experimento 2:</b> Se varian 3 parámetros (theta, curvatura, acelaración tangencial) </p>\n",
    "<table> \n",
    "    <tr> \n",
    "        <th> <center> Parameters </center> </th>\n",
    "        <th colspan=\"2\" > <center> Accuracy </center> </th>\n",
    "        <th colspan=\"2\" ><center> Accuracy VTN </center> </th> \n",
    "    </tr>\n",
    "    <tr> \n",
    "        <center> \n",
    "        <td> 10 </td> \n",
    "        <td> 18.4241 </td>\n",
    "        <td> 159/863 </td>\n",
    "        <td> 18.4241 </td>\n",
    "        <td> 159/863 </td>\n",
    "        </center>\n",
    "    </tr>\n",
    "    <tr> \n",
    "        <center> \n",
    "        <td> 20 </td> \n",
    "        <td> 57.0104 </td>\n",
    "        <td> 492/863 </td>\n",
    "        <td> 57.0104 </td>\n",
    "        <td> 492/863 </td>\n",
    "        </center>\n",
    "    </tr>\n",
    "    <tr> \n",
    "        <center> \n",
    "        <td> 30 </td> \n",
    "        <td> 66.9757 </td>\n",
    "        <td> 578/863 </td>\n",
    "        <td> 66.9757 </td>\n",
    "        <td> 578/863 </td>\n",
    "        </center>\n",
    "    </tr>\n",
    "    <tr> \n",
    "        <center> \n",
    "        <td> 40 </td> \n",
    "        <td> 77.4044 </td>\n",
    "        <td> 668/863 </td>\n",
    "        <td> 77.4044 </td>\n",
    "        <td> 668/863 </td>\n",
    "        </center>\n",
    "    </tr>\n",
    "    <tr> \n",
    "        <center> \n",
    "        <td> 50 </td> \n",
    "        <td> 81.9235 </td>\n",
    "        <td> 707/863 </td>\n",
    "        <td> 81.8076 </td>\n",
    "        <td> 706/863 </td>\n",
    "        </center>\n",
    "    </tr>\n",
    "    <tr> \n",
    "        <center> \n",
    "        <td> 60 </td> \n",
    "        <td> 85.9791 </td>\n",
    "        <td> 742/863 </td>\n",
    "        <td> 85.9791 </td>\n",
    "        <td> 742/863 </td>\n",
    "        </center>\n",
    "    </tr>\n",
    "    <tr> \n",
    "        <center> \n",
    "        <td> 70 </td> \n",
    "        <td> 87.022 </td>\n",
    "        <td> 751/863 </td>\n",
    "        <td> 86.9061 </td>\n",
    "        <td> 750/863 </td>\n",
    "        </center>\n",
    "    </tr>\n",
    "    <tr> \n",
    "        <center> \n",
    "        <td> 80 </td> \n",
    "        <td> 89.5713 </td>\n",
    "        <td> 773/863 </td>\n",
    "        <td> 89.5713 </td>\n",
    "        <td> 773/863 </td>\n",
    "        </center>\n",
    "    </tr>\n",
    "    <tr> \n",
    "        <center> \n",
    "        <td> 90 </td> \n",
    "        <td> 90.3824 </td>\n",
    "        <td> 780/863 </td>\n",
    "        <td> 90.3824 </td>\n",
    "        <td> 780/863 </td>\n",
    "        </center>\n",
    "    </tr>\n",
    "    <tr> \n",
    "        <center> \n",
    "        <td> 100 </td> \n",
    "        <td> 89.803 </td>\n",
    "        <td> 775/863 </td>\n",
    "        <td> 89.803 </td>\n",
    "        <td> 775/863 </td>\n",
    "        </center>\n",
    "    </tr>\n",
    "    <tr> \n",
    "        <center> \n",
    "        <td> 110 </td> \n",
    "        <td> 90.3824</td>\n",
    "        <td> 780/863 </td>\n",
    "        <td> 90.3824 </td>\n",
    "        <td> 780/863 </td>\n",
    "        </center>\n",
    "    </tr>\n",
    "</table>\n"
   ]
  },
  {
   "cell_type": "code",
   "execution_count": 2,
   "metadata": {},
   "outputs": [
    {
     "data": {
      "text/plain": [
       "Text(0.5,1,'Experimento 2')"
      ]
     },
     "execution_count": 2,
     "metadata": {},
     "output_type": "execute_result"
    },
    {
     "data": {
      "image/png": "[encoded data removed]",
      "text/plain": [
       "<Figure size 432x288 with 1 Axes>"
      ]
     },
     "metadata": {},
     "output_type": "display_data"
    }
   ],
   "source": [
    "import matplotlib.pyplot as plt\n",
    "import numpy as np\n",
    "\n",
    "# Datos\n",
    "x = np.array([10, 20, 30, 40, 50, 60, 70, 80, 90, 100, 110])\n",
    "y1_2 = np.array([18.4241, 57.0104, 66.9757, 77.4044, 81.9235, 85.9791, 87.022, 89.5713, 90.3824, 89.803, 90.3824])\n",
    "y2 = np.array([18.4241, 57.0104, 66.9757, 77.4044, 81.8076, 85.9791, 86.9061, 89.5713, 90.3824, 89.803, 90.3824])\n",
    "\n",
    "\n",
    "# Gráfica\n",
    "plt.plot(x,y1_2, '<', color=\"blue\", linewidth=1.0, linestyle=\"-\", label=\"Accuracy\")\n",
    "plt.plot(x,y2, 'o', color=\"green\", linewidth=1.0, linestyle=\"-.\", label=\"Accuracy VTN\")\n",
    "plt.legend(loc='upper left')\n",
    "plt.xlabel('Parameters')\n",
    "plt.ylabel('Accuracy')\n",
    "plt.title('Experimento 2')"
   ]
  },
  {
   "cell_type": "markdown",
   "metadata": {},
   "source": [
    "<p> <b> Experimento 3:</b> Se varian 4 parámetros (theta, curvatura, aceleración tangencial, normal y) </p>\n",
    "<br>\n",
    "<table> \n",
    "    <tr> \n",
    "        <th> <center> Parameters </center> </th>\n",
    "        <th colspan=\"2\" > <center> Accuracy </center> </th>\n",
    "        <th colspan=\"2\" ><center> Accuracy VTN </center> </th> \n",
    "    </tr>\n",
    "    <tr> \n",
    "        <center> \n",
    "        <td> 10 </td> \n",
    "        <td> 17.7289 </td>\n",
    "        <td> 153/863 </td>\n",
    "        <td> 17.7289 </td>\n",
    "        <td> 153/863 </td>\n",
    "        </center>\n",
    "    </tr>\n",
    "    <tr> \n",
    "        <center> \n",
    "        <td> 20 </td> \n",
    "        <td> 56.5469 </td>\n",
    "        <td> 488/863 </td>\n",
    "        <td> 56.5469 </td>\n",
    "        <td> 488/863 </td>\n",
    "        </center>\n",
    "    </tr>\n",
    "    <tr> \n",
    "        <center> \n",
    "        <td> 30 </td> \n",
    "        <td> 67.4392 </td>\n",
    "        <td> 582/863 </td>\n",
    "        <td> 67.555 </td>\n",
    "        <td> 583/863 </td>\n",
    "        </center>\n",
    "    </tr>\n",
    "    <tr> \n",
    "        <center> \n",
    "        <td> 40 </td> \n",
    "        <td> 75.4345 </td>\n",
    "        <td> 651/863 </td>\n",
    "        <td> 75.4345 </td>\n",
    "        <td> 651/863 </td>\n",
    "        </center>\n",
    "    </tr>\n",
    "    <tr> \n",
    "        <center> \n",
    "        <td> 50 </td> \n",
    "        <td> 81.8076 </td>\n",
    "        <td> 706/863 </td>\n",
    "        <td> 81.6918 </td>\n",
    "        <td> 705/863 </td>\n",
    "        </center>\n",
    "    </tr>\n",
    "    <tr> \n",
    "        <center> \n",
    "        <td> 60 </td> \n",
    "        <td> 85.2839 </td>\n",
    "        <td> 736/863 </td>\n",
    "        <td> 85.2839 </td>\n",
    "        <td> 736/863 </td>\n",
    "        </center>\n",
    "    </tr>\n",
    "    <tr> \n",
    "        <center> \n",
    "        <td> 70 </td> \n",
    "        <td> 87.7173 </td>\n",
    "        <td> 757/863 </td>\n",
    "        <td> 87.7173 </td>\n",
    "        <td> 757/863 </td>\n",
    "        </center>\n",
    "    </tr>\n",
    "    <tr> \n",
    "        <center> \n",
    "        <td> 80 </td> \n",
    "        <td> 88.876 </td>\n",
    "        <td> 767/863 </td>\n",
    "        <td> 88.876 </td>\n",
    "        <td> 767/863 </td>\n",
    "        </center>\n",
    "    </tr>\n",
    "    <tr> \n",
    "        <center> \n",
    "        <td> 90 </td> \n",
    "        <td> 89.803 </td>\n",
    "        <td> 775/863 </td>\n",
    "        <td> 89.803 </td>\n",
    "        <td> 775/863 </td>\n",
    "        </center>\n",
    "    </tr>\n",
    "    <tr> \n",
    "        <center> \n",
    "        <td> 100 </td> \n",
    "        <td> 89.6871 </td>\n",
    "        <td> 774/863 </td>\n",
    "        <td> 89.6871 </td>\n",
    "        <td> 774/863 </td>\n",
    "        </center>\n",
    "    </tr>\n",
    "    <tr> \n",
    "        <center> \n",
    "        <td> 110 </td> \n",
    "        <td> 90.0348 </td>\n",
    "        <td> 777/863 </td>\n",
    "        <td> 90.0348 </td>\n",
    "        <td> 777/863 </td>\n",
    "        </center>\n",
    "    </tr>\n",
    "</table>\n"
   ]
  },
  {
   "cell_type": "code",
   "execution_count": 3,
   "metadata": {},
   "outputs": [
    {
     "data": {
      "text/plain": [
       "Text(0.5,1,'Experimento 3')"
      ]
     },
     "execution_count": 3,
     "metadata": {},
     "output_type": "execute_result"
    },
    {
     "data": {
      "image/png": "[encoded data removed]",
      "text/plain": [
       "<Figure size 432x288 with 1 Axes>"
      ]
     },
     "metadata": {},
     "output_type": "display_data"
    }
   ],
   "source": [
    "import matplotlib.pyplot as plt\n",
    "import numpy as np\n",
    "\n",
    "# Datos\n",
    "x = np.array([10, 20, 30, 40, 50, 60, 70, 80, 90, 100, 110])\n",
    "y1_3 = np.array([17.7289, 56.5469, 67.4392, 75.4345, 81.8076, 85.2839, 87.7173, 88.876, 89.803, 89.6871, 90.0348])\n",
    "y2 = np.array([17.7289, 56.5469, 67.555, 75.4345, 81.8918, 85.2839, 87.7173, 88.876, 89.803, 89.6871, 90.0348])\n",
    "\n",
    "# Gráfica\n",
    "plt.plot(x,y1_3, '<', color=\"blue\", linewidth=1.0, linestyle=\"-\", label=\"Accuracy\")\n",
    "plt.plot(x,y2, 'o', color=\"green\", linewidth=1.0, linestyle=\"-.\", label=\"Accuracy VTN\")\n",
    "plt.legend(loc='upper left')\n",
    "plt.xlabel('Parameters')\n",
    "plt.ylabel('Accuracy')\n",
    "plt.title('Experimento 3')"
   ]
  },
  {
   "cell_type": "code",
   "execution_count": null,
   "metadata": {},
   "outputs": [],
   "source": []
  },
  {
   "cell_type": "code",
   "execution_count": 4,
   "metadata": {},
   "outputs": [
    {
     "data": {
      "text/plain": [
       "Text(0.5,1,'Experimento 3')"
      ]
     },
     "execution_count": 4,
     "metadata": {},
     "output_type": "execute_result"
    },
    {
     "data": {
      "image/png": "[encoded data removed]",
      "text/plain": [
       "<Figure size 432x288 with 1 Axes>"
      ]
     },
     "metadata": {},
     "output_type": "display_data"
    }
   ],
   "source": [
    "plt.plot(x,y1_1, '<', color=\"blue\", linewidth=1.0, linestyle=\"-\", label=\"Accuracy exp 1\")\n",
    "plt.plot(x,y1_2, '<', color=\"green\", linewidth=1.0, linestyle=\"-\", label=\"Accuracy exp 2\")\n",
    "plt.plot(x,y1_3, '<', color=\"red\", linewidth=1.0, linestyle=\"-\", label=\"Accuracy exp 3\")\n",
    "plt.legend(loc='upper left')\n",
    "plt.xlabel('Parameters')\n",
    "plt.ylabel('Accuracy')\n",
    "plt.title('Experimento 3')"
   ]
  },
  {
   "cell_type": "code",
   "execution_count": 19,
   "metadata": {},
   "outputs": [
    {
     "data": {
      "image/png": "[encoded data removed]",
      "text/plain": [
       "<Figure size 432x288 with 1 Axes>"
      ]
     },
     "metadata": {},
     "output_type": "display_data"
    }
   ],
   "source": [
    "plt.plot(x,y1_1, '<', color=\"blue\", linewidth=1.0, linestyle=\"-\", label=\"Acc all activities \")\n",
    "plt.legend(loc='upper left')\n",
    "plt.xlabel('% Percentaje of video')\n",
    "plt.ylabel('Accuracy')\n",
    "plt.title('Partial video recognition in KTH')\n",
    "plt.savefig('/home/fmartinezc/Downloads/partial.pdf')"
   ]
  },
  {
   "cell_type": "code",
   "execution_count": null,
   "metadata": {},
   "outputs": [],
   "source": []
  }
 ],
 "metadata": {
  "kernelspec": {
   "display_name": "Python 3",
   "language": "python",
   "name": "python3"
  },
  "language_info": {
   "codemirror_mode": {
    "name": "ipython",
    "version": 3
   },
   "file_extension": ".py",
   "mimetype": "text/x-python",
   "name": "python",
   "nbconvert_exporter": "python",
   "pygments_lexer": "ipython3",
   "version": "3.5.2"
  }
 },
 "nbformat": 4,
 "nbformat_minor": 2
}
