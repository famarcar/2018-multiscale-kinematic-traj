{
 "cells": [
  {
   "cell_type": "markdown",
   "metadata": {},
   "source": [
    "## Global Experiments (Features (F) - Scales (S))\n",
    "   - Exp1: 3F-3S\n",
    "   - Exp2: 3F-2S\n",
    "   - Exp3: 3F-1S\n",
    "   - Exp4: 3F-5S\n",
    "   - Exp5: 2F-3S\n",
    "   - Exp6: 1F-3S\n",
    "   - Exp7: 11F(all)-3S "
   ]
  },
  {
   "cell_type": "code",
   "execution_count": 2,
   "metadata": {},
   "outputs": [],
   "source": [
    "import pandas as pd"
   ]
  },
  {
   "cell_type": "code",
   "execution_count": null,
   "metadata": {},
   "outputs": [],
   "source": []
  },
  {
   "cell_type": "code",
   "execution_count": null,
   "metadata": {},
   "outputs": [],
   "source": [
    "plt.plot(x,y1_1, '<', color=\"blue\", linewidth=1.0, linestyle=\"-\", label=\"Acc all activities \")\n",
    "plt.legend(loc='upper left')\n",
    "plt.xlabel('% Percentaje of video')\n",
    "plt.ylabel('Accuracy')\n",
    "plt.title('Partial video recognition in KTH')\n",
    "plt.savefig('partial.pdf')"
   ]
  }
 ],
 "metadata": {
  "kernelspec": {
   "display_name": "Python 3",
   "language": "python",
   "name": "python3"
  },
  "language_info": {
   "codemirror_mode": {
    "name": "ipython",
    "version": 3
   },
   "file_extension": ".py",
   "mimetype": "text/x-python",
   "name": "python",
   "nbconvert_exporter": "python",
   "pygments_lexer": "ipython3",
   "version": "3.5.2"
  }
 },
 "nbformat": 4,
 "nbformat_minor": 2
}
